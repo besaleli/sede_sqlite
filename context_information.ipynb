{
 "cells": [
  {
   "cell_type": "code",
   "execution_count": 1,
   "metadata": {},
   "outputs": [
    {
     "name": "stderr",
     "output_type": "stream",
     "text": [
      "/Users/razbesaleli/sede_sqlite/.venv/lib/python3.10/site-packages/tqdm/auto.py:22: TqdmWarning: IProgress not found. Please update jupyter and ipywidgets. See https://ipywidgets.readthedocs.io/en/stable/user_install.html\n",
      "  from .autonotebook import tqdm as notebook_tqdm\n"
     ]
    }
   ],
   "source": [
    "from sentence_transformers import SentenceTransformer\n",
    "import pandas as pd"
   ]
  },
  {
   "cell_type": "code",
   "execution_count": 3,
   "metadata": {},
   "outputs": [
    {
     "data": {
      "text/html": [
       "<div>\n",
       "<style scoped>\n",
       "    .dataframe tbody tr th:only-of-type {\n",
       "        vertical-align: middle;\n",
       "    }\n",
       "\n",
       "    .dataframe tbody tr th {\n",
       "        vertical-align: top;\n",
       "    }\n",
       "\n",
       "    .dataframe thead th {\n",
       "        text-align: right;\n",
       "    }\n",
       "</style>\n",
       "<table border=\"1\" class=\"dataframe\">\n",
       "  <thead>\n",
       "    <tr style=\"text-align: right;\">\n",
       "      <th></th>\n",
       "      <th>QuerySetId</th>\n",
       "      <th>Title</th>\n",
       "      <th>Description</th>\n",
       "      <th>QueryBody</th>\n",
       "      <th>CreationDate</th>\n",
       "      <th>validated</th>\n",
       "      <th>QueryBody_Original</th>\n",
       "    </tr>\n",
       "  </thead>\n",
       "  <tbody>\n",
       "    <tr>\n",
       "      <th>0</th>\n",
       "      <td>466</td>\n",
       "      <td>Most controversial posts on the site</td>\n",
       "      <td>Looks for posts with more than half the amount...</td>\n",
       "      <td>SELECT * FROM Votes</td>\n",
       "      <td>2020-06-24 11:23:10</td>\n",
       "      <td>False</td>\n",
       "      <td>SELECT \\n* from Votes</td>\n",
       "    </tr>\n",
       "    <tr>\n",
       "      <th>1</th>\n",
       "      <td>784</td>\n",
       "      <td>Comments asking for questions to be made wiki</td>\n",
       "      <td>All comments that contain the text should and ...</td>\n",
       "      <td>SELECT PostId AS \"Post Link\", Text FROM Commen...</td>\n",
       "      <td>2019-07-07 11:01:51</td>\n",
       "      <td>False</td>\n",
       "      <td>SELECT  PostId as [Post Link], Text from Comme...</td>\n",
       "    </tr>\n",
       "    <tr>\n",
       "      <th>2</th>\n",
       "      <td>873</td>\n",
       "      <td>Posts containing a very short body</td>\n",
       "      <td>Posts containing a body that is less than 8 ch...</td>\n",
       "      <td>SELECT Id AS \"Post Link\", Body, Score FROM Pos...</td>\n",
       "      <td>2020-11-30 04:11:17</td>\n",
       "      <td>False</td>\n",
       "      <td>SELECT  Id as [Post Link], Body, Score from Po...</td>\n",
       "    </tr>\n",
       "    <tr>\n",
       "      <th>3</th>\n",
       "      <td>877</td>\n",
       "      <td>Posts containing a very short title</td>\n",
       "      <td>Posts containing a body that is less than 5 ch...</td>\n",
       "      <td>SELECT Id AS \"Post Link\", Body, Score FROM Pos...</td>\n",
       "      <td>2020-11-25 01:19:00</td>\n",
       "      <td>False</td>\n",
       "      <td>SELECT  Id as [Post Link], Body, Score from Po...</td>\n",
       "    </tr>\n",
       "    <tr>\n",
       "      <th>4</th>\n",
       "      <td>886</td>\n",
       "      <td>Posts with many \"thank you\" answers</td>\n",
       "      <td>Looking at posts shorter than 200 with the tex...</td>\n",
       "      <td>SELECT ParentId AS \"Post Link\", COUNT(id) FROM...</td>\n",
       "      <td>2020-11-30 02:23:24</td>\n",
       "      <td>False</td>\n",
       "      <td>SELECT \\n   ParentId as [Post Link],\\n   count...</td>\n",
       "    </tr>\n",
       "  </tbody>\n",
       "</table>\n",
       "</div>"
      ],
      "text/plain": [
       "   QuerySetId                                          Title  \\\n",
       "0         466           Most controversial posts on the site   \n",
       "1         784  Comments asking for questions to be made wiki   \n",
       "2         873             Posts containing a very short body   \n",
       "3         877            Posts containing a very short title   \n",
       "4         886            Posts with many \"thank you\" answers   \n",
       "\n",
       "                                         Description  \\\n",
       "0  Looks for posts with more than half the amount...   \n",
       "1  All comments that contain the text should and ...   \n",
       "2  Posts containing a body that is less than 8 ch...   \n",
       "3  Posts containing a body that is less than 5 ch...   \n",
       "4  Looking at posts shorter than 200 with the tex...   \n",
       "\n",
       "                                           QueryBody         CreationDate  \\\n",
       "0                                SELECT * FROM Votes  2020-06-24 11:23:10   \n",
       "1  SELECT PostId AS \"Post Link\", Text FROM Commen...  2019-07-07 11:01:51   \n",
       "2  SELECT Id AS \"Post Link\", Body, Score FROM Pos...  2020-11-30 04:11:17   \n",
       "3  SELECT Id AS \"Post Link\", Body, Score FROM Pos...  2020-11-25 01:19:00   \n",
       "4  SELECT ParentId AS \"Post Link\", COUNT(id) FROM...  2020-11-30 02:23:24   \n",
       "\n",
       "   validated                                 QueryBody_Original  \n",
       "0      False                              SELECT \\n* from Votes  \n",
       "1      False  SELECT  PostId as [Post Link], Text from Comme...  \n",
       "2      False  SELECT  Id as [Post Link], Body, Score from Po...  \n",
       "3      False  SELECT  Id as [Post Link], Body, Score from Po...  \n",
       "4      False  SELECT \\n   ParentId as [Post Link],\\n   count...  "
      ]
     },
     "execution_count": 3,
     "metadata": {},
     "output_type": "execute_result"
    }
   ],
   "source": [
    "df = pd.read_json('questions/train.json')\n",
    "df.head()"
   ]
  },
  {
   "cell_type": "code",
   "execution_count": null,
   "metadata": {},
   "outputs": [],
   "source": []
  }
 ],
 "metadata": {
  "kernelspec": {
   "display_name": ".venv",
   "language": "python",
   "name": "python3"
  },
  "language_info": {
   "codemirror_mode": {
    "name": "ipython",
    "version": 3
   },
   "file_extension": ".py",
   "mimetype": "text/x-python",
   "name": "python",
   "nbconvert_exporter": "python",
   "pygments_lexer": "ipython3",
   "version": "3.10.8"
  },
  "orig_nbformat": 4,
  "vscode": {
   "interpreter": {
    "hash": "79e197f9ce48b790a82a2f047c1b71f0051bb229fe78d2fa7f5862d040bfbcb7"
   }
  }
 },
 "nbformat": 4,
 "nbformat_minor": 2
}
